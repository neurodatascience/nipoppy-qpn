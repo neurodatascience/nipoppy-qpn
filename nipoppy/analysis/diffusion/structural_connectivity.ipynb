{
 "cells": [
  {
   "cell_type": "markdown",
   "metadata": {},
   "source": [
    "### Analysis and plotting of structural networks from Tractflow output\n"
   ]
  },
  {
   "cell_type": "code",
   "execution_count": 30,
   "metadata": {},
   "outputs": [],
   "source": [
    "import pandas as pd\n",
    "import numpy as np\n",
    "import scipy.stats\n",
    "import matplotlib.patches as mpatches\n",
    "import matplotlib.pyplot as plt\n",
    "import seaborn as sns\n",
    "import nibabel as nib"
   ]
  },
  {
   "cell_type": "markdown",
   "metadata": {},
   "source": [
    "### Paths"
   ]
  },
  {
   "cell_type": "code",
   "execution_count": 6,
   "metadata": {},
   "outputs": [],
   "source": [
    "dataset = \"qpn\"\n",
    "current_release = \"Jan_2024\"\n",
    "TF_version = \"v1.5.0\"\n",
    "\n",
    "# /home/nikhil/projects/Parkinsons/qpn/derivatives/freesurfer/v7.3.2/IDP/ses-01\n",
    "\n",
    "dataset_dir = f\"/home/nikhil/projects/Parkinsons/{dataset}/\"\n",
    "release_dir = f\"{dataset_dir}/releases/{current_release}\"\n",
    "tabular_dir = f\"{release_dir}/tabular/\"\n",
    "derivatives_dir = f\"{release_dir}/derivatives/\"\n",
    "proc_dir = f\"{release_dir}/proc/\"\n",
    "\n",
    "# Current nipoppy manifest\n",
    "manifest_csv = f\"{tabular_dir}/manifest.csv\"\n",
    "\n",
    "# demographics\n",
    "demographics_csv = f\"{tabular_dir}/demographics.csv\"\n",
    "\n",
    "# Tractoflow extractions\n",
    "tractflow_extract_dir = f\"{derivatives_dir}/networks/{TF_version}\"\n"
   ]
  },
  {
   "cell_type": "markdown",
   "metadata": {},
   "source": [
    "### Palettes"
   ]
  },
  {
   "cell_type": "code",
   "execution_count": 7,
   "metadata": {},
   "outputs": [],
   "source": [
    "# palette\n",
    "Hue_CONTROL = \"#8d99ae\"\n",
    "Hue_PD = \"#e63946\"\n",
    "\n",
    "color_list = [Hue_PD, Hue_CONTROL]\n",
    "QPN_Dx_palette = sns.color_palette(palette=color_list)"
   ]
  },
  {
   "cell_type": "markdown",
   "metadata": {},
   "source": [
    "### Load data\n",
    "\n",
    "#### Demographics for MRI participants"
   ]
  },
  {
   "cell_type": "code",
   "execution_count": 8,
   "metadata": {},
   "outputs": [
    {
     "name": "stdout",
     "output_type": "stream",
     "text": [
      "Number of participants: 286\n",
      "group_at_screening\n",
      "PD   (Parkinson's Disease)/Maladie de Parkinson                203\n",
      "Healthy control/Contrôle                                        67\n",
      "PPS (Parkinson Plus Syndrome)/PPS (Syndrome Parkinson Plus)     11\n",
      "Name: count, dtype: int64\n",
      "Number of PD participants: 203\n",
      "Number of HC participants: 67\n"
     ]
    },
    {
     "data": {
      "text/html": [
       "<div>\n",
       "<style scoped>\n",
       "    .dataframe tbody tr th:only-of-type {\n",
       "        vertical-align: middle;\n",
       "    }\n",
       "\n",
       "    .dataframe tbody tr th {\n",
       "        vertical-align: top;\n",
       "    }\n",
       "\n",
       "    .dataframe thead th {\n",
       "        text-align: right;\n",
       "    }\n",
       "</style>\n",
       "<table border=\"1\" class=\"dataframe\">\n",
       "  <thead>\n",
       "    <tr style=\"text-align: right;\">\n",
       "      <th></th>\n",
       "      <th>participant_id</th>\n",
       "      <th>redcap_event_name</th>\n",
       "      <th>group_at_screening</th>\n",
       "      <th>sex</th>\n",
       "      <th>years_education_at_screening</th>\n",
       "      <th>duration_disease_at_screening</th>\n",
       "      <th>diagnosis_determined</th>\n",
       "      <th>assessment</th>\n",
       "      <th>visit_id</th>\n",
       "      <th>age</th>\n",
       "      <th>visit</th>\n",
       "    </tr>\n",
       "  </thead>\n",
       "  <tbody>\n",
       "    <tr>\n",
       "      <th>0</th>\n",
       "      <td>MNI0028</td>\n",
       "      <td>Baseline (Arm 1: C-OPN)</td>\n",
       "      <td>PD   (Parkinson's Disease)/Maladie de Parkinson</td>\n",
       "      <td>M</td>\n",
       "      <td>18</td>\n",
       "      <td>3.5</td>\n",
       "      <td>PD</td>\n",
       "      <td>MRI</td>\n",
       "      <td>v1</td>\n",
       "      <td>60.19</td>\n",
       "      <td>MRI_v1</td>\n",
       "    </tr>\n",
       "    <tr>\n",
       "      <th>5</th>\n",
       "      <td>MNI0056</td>\n",
       "      <td>Baseline (Arm 1: C-OPN)</td>\n",
       "      <td>PD   (Parkinson's Disease)/Maladie de Parkinson</td>\n",
       "      <td>M</td>\n",
       "      <td>6</td>\n",
       "      <td>6.5</td>\n",
       "      <td>NaN</td>\n",
       "      <td>MRI</td>\n",
       "      <td>v1</td>\n",
       "      <td>79.24</td>\n",
       "      <td>MRI_v1</td>\n",
       "    </tr>\n",
       "    <tr>\n",
       "      <th>9</th>\n",
       "      <td>MNI0058</td>\n",
       "      <td>Baseline (Arm 1: C-OPN)</td>\n",
       "      <td>PD   (Parkinson's Disease)/Maladie de Parkinson</td>\n",
       "      <td>M</td>\n",
       "      <td>11</td>\n",
       "      <td>3.8</td>\n",
       "      <td>PD</td>\n",
       "      <td>MRI</td>\n",
       "      <td>v1</td>\n",
       "      <td>57.43</td>\n",
       "      <td>MRI_v1</td>\n",
       "    </tr>\n",
       "    <tr>\n",
       "      <th>13</th>\n",
       "      <td>MNI0068</td>\n",
       "      <td>Baseline (Arm 1: C-OPN)</td>\n",
       "      <td>PD   (Parkinson's Disease)/Maladie de Parkinson</td>\n",
       "      <td>M</td>\n",
       "      <td>12</td>\n",
       "      <td>10.2</td>\n",
       "      <td>PD</td>\n",
       "      <td>MRI</td>\n",
       "      <td>v1</td>\n",
       "      <td>69.30</td>\n",
       "      <td>MRI_v1</td>\n",
       "    </tr>\n",
       "    <tr>\n",
       "      <th>16</th>\n",
       "      <td>MNI0079</td>\n",
       "      <td>Baseline (Arm 1: C-OPN)</td>\n",
       "      <td>PD   (Parkinson's Disease)/Maladie de Parkinson</td>\n",
       "      <td>F</td>\n",
       "      <td>20+</td>\n",
       "      <td>6.8</td>\n",
       "      <td>PD</td>\n",
       "      <td>MRI</td>\n",
       "      <td>v1</td>\n",
       "      <td>50.08</td>\n",
       "      <td>MRI_v1</td>\n",
       "    </tr>\n",
       "  </tbody>\n",
       "</table>\n",
       "</div>"
      ],
      "text/plain": [
       "   participant_id        redcap_event_name  \\\n",
       "0         MNI0028  Baseline (Arm 1: C-OPN)   \n",
       "5         MNI0056  Baseline (Arm 1: C-OPN)   \n",
       "9         MNI0058  Baseline (Arm 1: C-OPN)   \n",
       "13        MNI0068  Baseline (Arm 1: C-OPN)   \n",
       "16        MNI0079  Baseline (Arm 1: C-OPN)   \n",
       "\n",
       "                                 group_at_screening sex  \\\n",
       "0   PD   (Parkinson's Disease)/Maladie de Parkinson   M   \n",
       "5   PD   (Parkinson's Disease)/Maladie de Parkinson   M   \n",
       "9   PD   (Parkinson's Disease)/Maladie de Parkinson   M   \n",
       "13  PD   (Parkinson's Disease)/Maladie de Parkinson   M   \n",
       "16  PD   (Parkinson's Disease)/Maladie de Parkinson   F   \n",
       "\n",
       "   years_education_at_screening  duration_disease_at_screening  \\\n",
       "0                            18                            3.5   \n",
       "5                             6                            6.5   \n",
       "9                            11                            3.8   \n",
       "13                           12                           10.2   \n",
       "16                          20+                            6.8   \n",
       "\n",
       "   diagnosis_determined assessment visit_id    age   visit  \n",
       "0                    PD        MRI       v1  60.19  MRI_v1  \n",
       "5                   NaN        MRI       v1  79.24  MRI_v1  \n",
       "9                    PD        MRI       v1  57.43  MRI_v1  \n",
       "13                   PD        MRI       v1  69.30  MRI_v1  \n",
       "16                   PD        MRI       v1  50.08  MRI_v1  "
      ]
     },
     "execution_count": 8,
     "metadata": {},
     "output_type": "execute_result"
    }
   ],
   "source": [
    "visit = \"MRI_v1\"\n",
    "\n",
    "demo_df = pd.read_csv(demographics_csv)\n",
    "mri_demo_df = demo_df[demo_df[\"visit\"]==visit]\n",
    "participants = mri_demo_df[\"participant_id\"].unique()\n",
    "n_participants = len(participants)\n",
    "print(f\"Number of participants: {n_participants}\")\n",
    "\n",
    "print(mri_demo_df[\"group_at_screening\"].value_counts())\n",
    "PD_group = \"PD   (Parkinson's Disease)/Maladie de Parkinson\"\n",
    "HC_group = \"Healthy control/Contrôle\"\n",
    "\n",
    "PD_participants = list(mri_demo_df[mri_demo_df[\"group_at_screening\"]==PD_group][\"participant_id\"].unique())\n",
    "HC_participants = list(mri_demo_df[mri_demo_df[\"group_at_screening\"]==HC_group][\"participant_id\"].unique())\n",
    "\n",
    "print(f\"Number of PD participants: {len(PD_participants)}\")\n",
    "print(f\"Number of HC participants: {len(HC_participants)}\")\n",
    "\n",
    "mri_demo_df.head()"
   ]
  },
  {
   "cell_type": "markdown",
   "metadata": {},
   "source": [
    "#### TF extractions"
   ]
  },
  {
   "cell_type": "code",
   "execution_count": 9,
   "metadata": {},
   "outputs": [
    {
     "name": "stdout",
     "output_type": "stream",
     "text": [
      "network_regions_df.shape: (100, 3)\n"
     ]
    },
    {
     "data": {
      "text/html": [
       "<div>\n",
       "<style scoped>\n",
       "    .dataframe tbody tr th:only-of-type {\n",
       "        vertical-align: middle;\n",
       "    }\n",
       "\n",
       "    .dataframe tbody tr th {\n",
       "        vertical-align: top;\n",
       "    }\n",
       "\n",
       "    .dataframe thead th {\n",
       "        text-align: right;\n",
       "    }\n",
       "</style>\n",
       "<table border=\"1\" class=\"dataframe\">\n",
       "  <thead>\n",
       "    <tr style=\"text-align: right;\">\n",
       "      <th></th>\n",
       "      <th>index</th>\n",
       "      <th>name</th>\n",
       "      <th>color</th>\n",
       "      <th>n_regions</th>\n",
       "      <th>hemi</th>\n",
       "      <th>network</th>\n",
       "      <th>network_index</th>\n",
       "    </tr>\n",
       "  </thead>\n",
       "  <tbody>\n",
       "    <tr>\n",
       "      <th>0</th>\n",
       "      <td>1</td>\n",
       "      <td>7Networks_LH_Vis_1</td>\n",
       "      <td>#781283</td>\n",
       "      <td>7Networks</td>\n",
       "      <td>LH</td>\n",
       "      <td>Vis</td>\n",
       "      <td>1</td>\n",
       "    </tr>\n",
       "    <tr>\n",
       "      <th>1</th>\n",
       "      <td>2</td>\n",
       "      <td>7Networks_LH_Vis_2</td>\n",
       "      <td>#781284</td>\n",
       "      <td>7Networks</td>\n",
       "      <td>LH</td>\n",
       "      <td>Vis</td>\n",
       "      <td>2</td>\n",
       "    </tr>\n",
       "    <tr>\n",
       "      <th>2</th>\n",
       "      <td>3</td>\n",
       "      <td>7Networks_LH_Vis_3</td>\n",
       "      <td>#781285</td>\n",
       "      <td>7Networks</td>\n",
       "      <td>LH</td>\n",
       "      <td>Vis</td>\n",
       "      <td>3</td>\n",
       "    </tr>\n",
       "    <tr>\n",
       "      <th>3</th>\n",
       "      <td>4</td>\n",
       "      <td>7Networks_LH_Vis_4</td>\n",
       "      <td>#781287</td>\n",
       "      <td>7Networks</td>\n",
       "      <td>LH</td>\n",
       "      <td>Vis</td>\n",
       "      <td>4</td>\n",
       "    </tr>\n",
       "    <tr>\n",
       "      <th>4</th>\n",
       "      <td>5</td>\n",
       "      <td>7Networks_LH_Vis_5</td>\n",
       "      <td>#781288</td>\n",
       "      <td>7Networks</td>\n",
       "      <td>LH</td>\n",
       "      <td>Vis</td>\n",
       "      <td>5</td>\n",
       "    </tr>\n",
       "  </tbody>\n",
       "</table>\n",
       "</div>"
      ],
      "text/plain": [
       "   index                name    color  n_regions hemi network network_index\n",
       "0      1  7Networks_LH_Vis_1  #781283  7Networks   LH     Vis             1\n",
       "1      2  7Networks_LH_Vis_2  #781284  7Networks   LH     Vis             2\n",
       "2      3  7Networks_LH_Vis_3  #781285  7Networks   LH     Vis             3\n",
       "3      4  7Networks_LH_Vis_4  #781287  7Networks   LH     Vis             4\n",
       "4      5  7Networks_LH_Vis_5  #781288  7Networks   LH     Vis             5"
      ]
     },
     "execution_count": 9,
     "metadata": {},
     "output_type": "execute_result"
    }
   ],
   "source": [
    "# Network regions\n",
    "atlas = \"Schaefer2018\"\n",
    "desc = \"100Parcels7Networks\"\n",
    "\n",
    "network_regions = f\"{tractflow_extract_dir}/atlas-{atlas}_desc-{desc}_dseg.tsv\"\n",
    "\n",
    "network_regions_df = pd.read_csv(network_regions, sep=\"\\t\")\n",
    "print(f\"network_regions_df.shape: {network_regions_df.shape}\")\n",
    "network_regions_df[[\"n_regions\", \"hemi\", \"network\", \"network_index\"]] = network_regions_df[\"name\"].str.split(\"_\",n=3,expand=True)\n",
    "network_regions_df.head()"
   ]
  },
  {
   "cell_type": "code",
   "execution_count": 10,
   "metadata": {},
   "outputs": [
    {
     "name": "stdout",
     "output_type": "stream",
     "text": [
      "File not found: /home/nikhil/projects/Parkinsons/qpn//releases/Jan_2024/derivatives//networks/v1.5.0/sub-MNI0028/ses-01/dwi//sub-MNI0028_ses-01_space-dwi_atlas-Schaefer2018_desc-100Parcels7Networks_conmat-count.tsv\n",
      "File not found: /home/nikhil/projects/Parkinsons/qpn//releases/Jan_2024/derivatives//networks/v1.5.0/sub-MNI0562/ses-01/dwi//sub-MNI0562_ses-01_space-dwi_atlas-Schaefer2018_desc-100Parcels7Networks_conmat-count.tsv\n",
      "File not found: /home/nikhil/projects/Parkinsons/qpn//releases/Jan_2024/derivatives//networks/v1.5.0/sub-MNI0568/ses-01/dwi//sub-MNI0568_ses-01_space-dwi_atlas-Schaefer2018_desc-100Parcels7Networks_conmat-count.tsv\n",
      "File not found: /home/nikhil/projects/Parkinsons/qpn//releases/Jan_2024/derivatives//networks/v1.5.0/sub-MNI0590/ses-01/dwi//sub-MNI0590_ses-01_space-dwi_atlas-Schaefer2018_desc-100Parcels7Networks_conmat-count.tsv\n",
      "File not found: /home/nikhil/projects/Parkinsons/qpn//releases/Jan_2024/derivatives//networks/v1.5.0/sub-MNI0607/ses-01/dwi//sub-MNI0607_ses-01_space-dwi_atlas-Schaefer2018_desc-100Parcels7Networks_conmat-count.tsv\n",
      "File not found: /home/nikhil/projects/Parkinsons/qpn//releases/Jan_2024/derivatives//networks/v1.5.0/sub-PD00457/ses-01/dwi//sub-PD00457_ses-01_space-dwi_atlas-Schaefer2018_desc-100Parcels7Networks_conmat-count.tsv\n",
      "File not found: /home/nikhil/projects/Parkinsons/qpn//releases/Jan_2024/derivatives//networks/v1.5.0/sub-PD00760/ses-01/dwi//sub-PD00760_ses-01_space-dwi_atlas-Schaefer2018_desc-100Parcels7Networks_conmat-count.tsv\n",
      "File not found: /home/nikhil/projects/Parkinsons/qpn//releases/Jan_2024/derivatives//networks/v1.5.0/sub-PD01268/ses-01/dwi//sub-PD01268_ses-01_space-dwi_atlas-Schaefer2018_desc-100Parcels7Networks_conmat-count.tsv\n",
      "File not found: /home/nikhil/projects/Parkinsons/qpn//releases/Jan_2024/derivatives//networks/v1.5.0/sub-PD01340/ses-01/dwi//sub-PD01340_ses-01_space-dwi_atlas-Schaefer2018_desc-100Parcels7Networks_conmat-count.tsv\n",
      "File not found: /home/nikhil/projects/Parkinsons/qpn//releases/Jan_2024/derivatives//networks/v1.5.0/sub-PD01500/ses-01/dwi//sub-PD01500_ses-01_space-dwi_atlas-Schaefer2018_desc-100Parcels7Networks_conmat-count.tsv\n",
      "File not found: /home/nikhil/projects/Parkinsons/qpn//releases/Jan_2024/derivatives//networks/v1.5.0/sub-PD01551/ses-01/dwi//sub-PD01551_ses-01_space-dwi_atlas-Schaefer2018_desc-100Parcels7Networks_conmat-count.tsv\n",
      "File not found: /home/nikhil/projects/Parkinsons/qpn//releases/Jan_2024/derivatives//networks/v1.5.0/sub-MNI0224/ses-01/dwi//sub-MNI0224_ses-01_space-dwi_atlas-Schaefer2018_desc-100Parcels7Networks_conmat-count.tsv\n",
      "File not found: /home/nikhil/projects/Parkinsons/qpn//releases/Jan_2024/derivatives//networks/v1.5.0/sub-MNI0326/ses-01/dwi//sub-MNI0326_ses-01_space-dwi_atlas-Schaefer2018_desc-100Parcels7Networks_conmat-count.tsv\n",
      "File not found: /home/nikhil/projects/Parkinsons/qpn//releases/Jan_2024/derivatives//networks/v1.5.0/sub-MNI0350/ses-01/dwi//sub-MNI0350_ses-01_space-dwi_atlas-Schaefer2018_desc-100Parcels7Networks_conmat-count.tsv\n",
      "File not found: /home/nikhil/projects/Parkinsons/qpn//releases/Jan_2024/derivatives//networks/v1.5.0/sub-MNI0608/ses-01/dwi//sub-MNI0608_ses-01_space-dwi_atlas-Schaefer2018_desc-100Parcels7Networks_conmat-count.tsv\n",
      "File not found: /home/nikhil/projects/Parkinsons/qpn//releases/Jan_2024/derivatives//networks/v1.5.0/sub-PD01100/ses-01/dwi//sub-PD01100_ses-01_space-dwi_atlas-Schaefer2018_desc-100Parcels7Networks_conmat-count.tsv\n",
      "File not found: /home/nikhil/projects/Parkinsons/qpn//releases/Jan_2024/derivatives//networks/v1.5.0/sub-PD01383/ses-01/dwi//sub-PD01383_ses-01_space-dwi_atlas-Schaefer2018_desc-100Parcels7Networks_conmat-count.tsv\n",
      "n missing participants: 17\n",
      "network list length: HC:61, PD:192\n"
     ]
    }
   ],
   "source": [
    "session = \"ses-01\"\n",
    "\n",
    "# participant_id = \"sub-PD00020\"\n",
    "PD_network_df_list = []\n",
    "HC_network_df_list = []\n",
    "missing_participants = []\n",
    "for participant_id in PD_participants + HC_participants:\n",
    "    bids_id = f\"sub-{participant_id}\"\n",
    "    participant_extraction_dir = f\"{tractflow_extract_dir}/{bids_id}/{session}/dwi/\"\n",
    "    network_tsv = f\"{participant_extraction_dir}/{bids_id}_{session}_space-dwi_atlas-{atlas}_desc-{desc}_conmat-count.tsv\"\n",
    "\n",
    "    try:\n",
    "        network_df = pd.read_csv(network_tsv, sep=\"\\t\", index_col = None, header= None)\n",
    "    except FileNotFoundError:\n",
    "        missing_participants.append(participant_id)\n",
    "        print(f\"File not found: {network_tsv}\")\n",
    "        continue\n",
    "\n",
    "    if participant_id in PD_participants:\n",
    "        PD_network_df_list.append(network_df.values)\n",
    "    elif participant_id in HC_participants:\n",
    "        HC_network_df_list.append(network_df.values)\n",
    "    else:\n",
    "        print(f\"Participant {participant_id} not in PD or HC group\")\n",
    "        \n",
    "print(f\"n missing participants: {len(missing_participants)}\")\n",
    "print(f\"network list length: HC:{len(HC_network_df_list)}, PD:{len(PD_network_df_list)}\")"
   ]
  },
  {
   "cell_type": "code",
   "execution_count": 11,
   "metadata": {},
   "outputs": [],
   "source": [
    "missing_participants_df = pd.DataFrame(missing_participants, columns=[\"participant_id\"])\n",
    "missing_participants_df.to_csv(f\"{proc_dir}/hpc_job_list_tractoflow_ses-01_resubmit.txt\", index=False, header=None)"
   ]
  },
  {
   "cell_type": "markdown",
   "metadata": {},
   "source": [
    "### Aggregate and thrshold group networks"
   ]
  },
  {
   "cell_type": "code",
   "execution_count": 12,
   "metadata": {},
   "outputs": [
    {
     "name": "stdout",
     "output_type": "stream",
     "text": [
      "--------------------------------------------------\n",
      "PD_avg_connectivity: 222.55181354166666\n",
      "HC_avg_connectivity: 204.8410901639344\n",
      "--------------------------------------------------\n",
      "Removing outliers\n",
      "--------------------------------------------------\n",
      "PD_avg_connectivity: 205.76704322916666\n",
      "HC_avg_connectivity: 189.6229262295082\n",
      "--------------------------------------------------\n",
      "PD_network_df.shape: (100, 100)\n",
      "HC_network_df.shape: (100, 100)\n"
     ]
    }
   ],
   "source": [
    "threshold_network = \"remove_outliers\"\n",
    "\n",
    "threshold_dict = { \n",
    "    \"100Parcels7Networks\" : {\n",
    "        \"binarize\": 100,\n",
    "        \"lower_bound\": 100,\n",
    "        \"upper_bound\": 4000\n",
    "    },\n",
    "    \"1000Parcels7Networks\" : {\n",
    "        \"binarize\": 10,\n",
    "        \"lower_bound\": 2,\n",
    "        \"upper_bound\": 50\n",
    "    }\n",
    "}\n",
    "\n",
    "PD_network_df = np.stack(PD_network_df_list,axis=2).mean(axis=2)\n",
    "HC_network_df = np.stack(HC_network_df_list,axis=2).mean(axis=2)\n",
    "\n",
    "# sanity checks\n",
    "PD_avg_connectivity = PD_network_df.mean()\n",
    "HC_avg_connectivity = HC_network_df.mean()\n",
    "print(\"-\"*50)\n",
    "print(f\"PD_avg_connectivity: {PD_avg_connectivity}\")\n",
    "print(f\"HC_avg_connectivity: {HC_avg_connectivity}\")\n",
    "print(\"-\"*50)\n",
    "\n",
    "if threshold_network == \"binarize\":\n",
    "    print(\"Binarizing\")\n",
    "    thrshold = threshold_dict[desc][\"binarize\"]\n",
    "    PD_network_df = (PD_network_df > thrshold).astype(int)\n",
    "    HC_network_df = (HC_network_df > thrshold).astype(int)\n",
    "\n",
    "elif threshold_network == \"remove_outliers\":\n",
    "    print(\"Removing outliers\")\n",
    "    lower_bound = threshold_dict[desc][\"lower_bound\"]\n",
    "    upper_bound = threshold_dict[desc][\"upper_bound\"]\n",
    "    PD_network_df[(PD_network_df < lower_bound)] = 0\n",
    "    PD_network_df[(PD_network_df > upper_bound)] = upper_bound\n",
    "    HC_network_df[(HC_network_df < lower_bound)] = 0\n",
    "    HC_network_df[(HC_network_df > upper_bound)] = upper_bound\n",
    "else:\n",
    "    print(\"No thresholding applied\")\n",
    "\n",
    "# sanity checks\n",
    "PD_avg_connectivity = PD_network_df.mean()\n",
    "HC_avg_connectivity = HC_network_df.mean()\n",
    "print(\"-\"*50)\n",
    "print(f\"PD_avg_connectivity: {PD_avg_connectivity}\")\n",
    "print(f\"HC_avg_connectivity: {HC_avg_connectivity}\")\n",
    "print(\"-\"*50)\n",
    "print(f\"PD_network_df.shape: {PD_network_df.shape}\")\n",
    "print(f\"HC_network_df.shape: {HC_network_df.shape}\")"
   ]
  },
  {
   "cell_type": "markdown",
   "metadata": {},
   "source": [
    "### Plots"
   ]
  },
  {
   "cell_type": "code",
   "execution_count": 13,
   "metadata": {},
   "outputs": [
    {
     "data": {
      "image/png": "[encoded data removed]",
      "text/plain": [
       "<Figure size 1500x700 with 3 Axes>"
      ]
     },
     "metadata": {},
     "output_type": "display_data"
    }
   ],
   "source": [
    "from matplotlib.colors import LinearSegmentedColormap\n",
    "n_color_bins = 10\n",
    "max_color = '#e63946'\n",
    "\n",
    "cmap = LinearSegmentedColormap.from_list('', ['white', max_color], n_color_bins)\n",
    "# cmap = sns.color_palette(\"Reds\") #,20) #\"Greys\"\n",
    "row_colors = network_regions_df[\"color\"]\n",
    "\n",
    "legend_TN = [mpatches.Patch(color=c, label=l) for c,l in network_regions_df[['color','network']].drop_duplicates(\"network\").values]\n",
    "midline_idx = PD_network_df.shape[0]//2\n",
    "\n",
    "with sns.axes_style(\"white\"):\n",
    "    sns.set_context(\"paper\")\n",
    "    fig, axes = plt.subplots(nrows=1,ncols=2, figsize=(15, 7))\n",
    "    cbar_ax = fig.add_axes([.905, .2, .01, .6])\n",
    "\n",
    "    # -------------------------------------------------------------------------------------#\n",
    "    # PD\n",
    "    # -------------------------------------------------------------------------------------#\n",
    "    plot_df = PD_network_df.copy()\n",
    "    ax = axes[0]\n",
    "    g = sns.heatmap(plot_df, square=False, xticklabels=False, yticklabels=False, cmap=cmap, ax=ax, cbar=False) #cbar_kws={\"shrink\": .5}\n",
    "    g.set_xticklabels(g.get_xticklabels(), rotation=0)\n",
    "    ax.set_title(f\"PD Network (n={len(PD_participants)})\",fontsize=15)\n",
    "    ax.axhline(y=midline_idx, color='k', linestyle='--')\n",
    "    ax.axvline(x=midline_idx, color='k', linestyle='--')\n",
    "   \n",
    "    for i, color in enumerate(row_colors):\n",
    "        g.add_patch(plt.Rectangle(xy=(-0.07, i), width=0.03, height=1, color=color, lw=0,\n",
    "                                transform=g.get_yaxis_transform(), clip_on=False))\n",
    "\n",
    "    # -------------------------------------------------------------------------------------#\n",
    "    # HC\n",
    "    # -------------------------------------------------------------------------------------#\n",
    "    plot_df = HC_network_df.copy()\n",
    "    ax = axes[1]\n",
    "    g = sns.heatmap(plot_df, square=False, xticklabels=False, yticklabels=False, cmap=cmap, ax=ax, \n",
    "                    cbar_kws= {'label': 'conmat-count'},cbar_ax=cbar_ax) #cbar_kws={\"shrink\": .5}\n",
    "    g.set_xticklabels(g.get_xticklabels(), rotation=0)\n",
    "    ax.set_title(f\"HC Network (n={len(HC_participants)})\",fontsize=15)\n",
    "    ax.axhline(y=midline_idx, color='k', linestyle='--')\n",
    "    ax.axvline(x=midline_idx, color='k', linestyle='--')\n",
    "\n",
    "    for i, color in enumerate(row_colors):\n",
    "        g.add_patch(plt.Rectangle(xy=(-0.07, i), width=0.03, height=1, color=color, lw=0,\n",
    "                                transform=g.get_yaxis_transform(), clip_on=False))\n",
    "    \n",
    "l2=g.legend(loc='center left',bbox_to_anchor=(-0.8,1.1),ncol=7, handles=legend_TN,frameon=True) #(1.01,0.9)\n",
    "l2.set_title(title='network',prop={'size':10})\n",
    "# plt.tight_layout()"
   ]
  },
  {
   "cell_type": "markdown",
   "metadata": {},
   "source": [
    "### Test code for FA, MD calculation per ROI"
   ]
  },
  {
   "cell_type": "code",
   "execution_count": 41,
   "metadata": {},
   "outputs": [
    {
     "name": "stdout",
     "output_type": "stream",
     "text": [
      "network_regions_df.shape: (100, 3)\n"
     ]
    },
    {
     "data": {
      "text/html": [
       "<div>\n",
       "<style scoped>\n",
       "    .dataframe tbody tr th:only-of-type {\n",
       "        vertical-align: middle;\n",
       "    }\n",
       "\n",
       "    .dataframe tbody tr th {\n",
       "        vertical-align: top;\n",
       "    }\n",
       "\n",
       "    .dataframe thead th {\n",
       "        text-align: right;\n",
       "    }\n",
       "</style>\n",
       "<table border=\"1\" class=\"dataframe\">\n",
       "  <thead>\n",
       "    <tr style=\"text-align: right;\">\n",
       "      <th></th>\n",
       "      <th>index</th>\n",
       "      <th>name</th>\n",
       "      <th>color</th>\n",
       "      <th>n_regions</th>\n",
       "      <th>hemi</th>\n",
       "      <th>network</th>\n",
       "      <th>network_index</th>\n",
       "    </tr>\n",
       "  </thead>\n",
       "  <tbody>\n",
       "    <tr>\n",
       "      <th>0</th>\n",
       "      <td>1</td>\n",
       "      <td>7Networks_LH_Vis_1</td>\n",
       "      <td>#781283</td>\n",
       "      <td>7Networks</td>\n",
       "      <td>LH</td>\n",
       "      <td>Vis</td>\n",
       "      <td>1</td>\n",
       "    </tr>\n",
       "    <tr>\n",
       "      <th>1</th>\n",
       "      <td>2</td>\n",
       "      <td>7Networks_LH_Vis_2</td>\n",
       "      <td>#781284</td>\n",
       "      <td>7Networks</td>\n",
       "      <td>LH</td>\n",
       "      <td>Vis</td>\n",
       "      <td>2</td>\n",
       "    </tr>\n",
       "    <tr>\n",
       "      <th>2</th>\n",
       "      <td>3</td>\n",
       "      <td>7Networks_LH_Vis_3</td>\n",
       "      <td>#781285</td>\n",
       "      <td>7Networks</td>\n",
       "      <td>LH</td>\n",
       "      <td>Vis</td>\n",
       "      <td>3</td>\n",
       "    </tr>\n",
       "    <tr>\n",
       "      <th>3</th>\n",
       "      <td>4</td>\n",
       "      <td>7Networks_LH_Vis_4</td>\n",
       "      <td>#781287</td>\n",
       "      <td>7Networks</td>\n",
       "      <td>LH</td>\n",
       "      <td>Vis</td>\n",
       "      <td>4</td>\n",
       "    </tr>\n",
       "    <tr>\n",
       "      <th>4</th>\n",
       "      <td>5</td>\n",
       "      <td>7Networks_LH_Vis_5</td>\n",
       "      <td>#781288</td>\n",
       "      <td>7Networks</td>\n",
       "      <td>LH</td>\n",
       "      <td>Vis</td>\n",
       "      <td>5</td>\n",
       "    </tr>\n",
       "  </tbody>\n",
       "</table>\n",
       "</div>"
      ],
      "text/plain": [
       "   index                name    color  n_regions hemi network network_index\n",
       "0      1  7Networks_LH_Vis_1  #781283  7Networks   LH     Vis             1\n",
       "1      2  7Networks_LH_Vis_2  #781284  7Networks   LH     Vis             2\n",
       "2      3  7Networks_LH_Vis_3  #781285  7Networks   LH     Vis             3\n",
       "3      4  7Networks_LH_Vis_4  #781287  7Networks   LH     Vis             4\n",
       "4      5  7Networks_LH_Vis_5  #781288  7Networks   LH     Vis             5"
      ]
     },
     "execution_count": 41,
     "metadata": {},
     "output_type": "execute_result"
    }
   ],
   "source": [
    "# Network regions\n",
    "atlas = \"Schaefer2018\"\n",
    "desc = \"100Parcels7Networks\"\n",
    "\n",
    "network_regions = f\"{tractflow_extract_dir}/atlas-{atlas}_desc-{desc}_dseg.tsv\"\n",
    "\n",
    "network_regions_df = pd.read_csv(network_regions, sep=\"\\t\")\n",
    "print(f\"network_regions_df.shape: {network_regions_df.shape}\")\n",
    "network_regions_df[[\"n_regions\", \"hemi\", \"network\", \"network_index\"]] = network_regions_df[\"name\"].str.split(\"_\",n=3,expand=True)\n",
    "network_regions_df.head()"
   ]
  },
  {
   "cell_type": "code",
   "execution_count": 42,
   "metadata": {},
   "outputs": [],
   "source": [
    "bids_id = \"sub-MNI0056\"\n",
    "mask = f\"{tractflow_extract_dir}/{bids_id}/ses-01/anat/{bids_id}_ses-01_space-dwi_atlas-Schaefer2018_desc-100Parcels7Networks_dseg.nii.gz\"\n",
    "FA_file = f\"{derivatives_dir}/tractoflow/v1.5.0/output/ses-01/{bids_id}__fa.nii.gz\"\n",
    "MD_file = f\"{derivatives_dir}/tractoflow/v1.5.0/output/ses-01/{bids_id}__md.nii.gz\""
   ]
  },
  {
   "cell_type": "code",
   "execution_count": 43,
   "metadata": {},
   "outputs": [],
   "source": [
    "FA_img = nib.load(FA_file)\n",
    "FA_data = FA_img.get_fdata()\n",
    "\n",
    "MD_img = nib.load(MD_file)\n",
    "MD_data = MD_img.get_fdata()\n",
    "\n",
    "mask_img = nib.load(mask)\n",
    "mask_data = mask_img.get_fdata()\n"
   ]
  },
  {
   "cell_type": "code",
   "execution_count": 44,
   "metadata": {},
   "outputs": [],
   "source": [
    "measure_cols = [\"ROI_id\",\"FA\",\"MD\"]\n",
    "measure_df = pd.DataFrame(columns=measure_cols)\n",
    "for i in np.unique(mask_data):\n",
    "    mean_FA = np.mean(FA_data[mask_data==i])\n",
    "    mean_MD = np.mean(MD_data[mask_data==i])\n",
    "    measure_df.loc[i] = [i, mean_FA, mean_MD]"
   ]
  },
  {
   "cell_type": "code",
   "execution_count": 46,
   "metadata": {},
   "outputs": [
    {
     "data": {
      "image/png": "[encoded data removed]",
      "text/plain": [
       "<Figure size 1077.12x1000 with 1 Axes>"
      ]
     },
     "metadata": {},
     "output_type": "display_data"
    }
   ],
   "source": [
    "plot_df = measure_df.merge(network_regions_df, left_on=\"ROI_id\", right_on=\"index\")\n",
    "\n",
    "sns.set_theme(font_scale=1)\n",
    "with sns.axes_style(\"whitegrid\"):\n",
    "    g = sns.catplot(y=\"FA\",x=\"network\", hue=\"hemi\",kind=\"box\", data=plot_df, aspect=1, height=10, sharey=False)\n",
    "    # g.set_xlabels(\"\")\n",
    "    # g.set_xticklabels(\"\")\n",
    "\n",
    "# if save_fig:\n",
    "#     g.savefig(f\"{figs_dir}/FA.png\")"
   ]
  },
  {
   "cell_type": "markdown",
   "metadata": {},
   "source": []
  }
 ],
 "metadata": {
  "kernelspec": {
   "display_name": "nipoppy",
   "language": "python",
   "name": "python3"
  },
  "language_info": {
   "codemirror_mode": {
    "name": "ipython",
    "version": 3
   },
   "file_extension": ".py",
   "mimetype": "text/x-python",
   "name": "python",
   "nbconvert_exporter": "python",
   "pygments_lexer": "ipython3",
   "version": "3.10.12"
  },
  "orig_nbformat": 4
 },
 "nbformat": 4,
 "nbformat_minor": 2
}
